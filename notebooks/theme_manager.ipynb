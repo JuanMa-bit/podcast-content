{
 "cells": [
  {
   "cell_type": "code",
   "execution_count": 24,
   "metadata": {},
   "outputs": [],
   "source": [
    "import os\n",
    "import json"
   ]
  },
  {
   "cell_type": "code",
   "execution_count": 23,
   "metadata": {},
   "outputs": [],
   "source": [
    "class ThemeManager:\n",
    "    def __init__(self):\n",
    "        self.path_file_base = \"/Users/jucampo/Desktop/Ideas/Podcast/podcast-content/data\"\n",
    "        self.columns_names = [\"theme\", \"promt\",\"answer\"]\n",
    "        self.datos = {}\n",
    "    def verificate_file(self,name_file):\n",
    "        # Verificar si el archivo existe\n",
    "        path_file = os.path.join(self.path_file_base,name_file)\n",
    "        if not os.path.exists(path_file):\n",
    "            # Si no existe, crear el archivo\n",
    "            with open(path_file, 'w') as file:\n",
    "                json.dump(datos, path_file, indent=4)\n",
    "            print(f\"Archivo creado en: {path_file}\")\n",
    "        else:\n",
    "            print(f\"El archivo ya existe en: {path_file}\")\n",
    "    def verificate_create_key(self, name_file, key, promt,answer,):\n",
    "        \"\"\"\n",
    "        Verifica si una clave existe en un archivo JSON y, si no existe, la crea con un valor predeterminado.\n",
    "\n",
    "        Args:\n",
    "            ruta_archivo (str): La ruta del archivo JSON.\n",
    "            clave (str): La clave que se va a verificar y, si es necesario, crear en el archivo JSON.\n",
    "            valor_predeterminado (Any): El valor predeterminado que se asignará a la clave si no existe en el archivo JSON. Por defecto es None.\n",
    "\n",
    "        Returns:\n",
    "            dict: El contenido del archivo JSON actualizado.\n",
    "        \"\"\"\n",
    "        path_file = os.path.join(self.path_file_base,name_file)\n",
    "        try:\n",
    "            with open(path_file, 'r') as file:\n",
    "                contenido_json = json.load(file)\n",
    "        except FileNotFoundError:\n",
    "            contenido_json = {}\n",
    "        \n",
    "        if key not in contenido_json:\n",
    "            contenido_json[key] = {promt:[answer]}\n",
    "        else:\n",
    "            if promt not in contenido_json[key]:\n",
    "                contenido_json[key][promt]=[answer]\n",
    "            elif promt in contenido_json[key] and answer not in contenido_json[key][promt]:\n",
    "                contenido_json[key][promt].append(answer)\n",
    "             \n",
    "        \n",
    "        with open(path_file, 'w') as file:\n",
    "            json.dump(contenido_json, file, indent=4)\n",
    "        \n",
    "    "
   ]
  },
  {
   "cell_type": "code",
   "execution_count": 11,
   "metadata": {},
   "outputs": [],
   "source": [
    "theme_manager=ThemeManager()"
   ]
  },
  {
   "cell_type": "code",
   "execution_count": 12,
   "metadata": {},
   "outputs": [
    {
     "name": "stdout",
     "output_type": "stream",
     "text": [
      "El archivo ya existe en: /Users/jucampo/Desktop/Ideas/Podcast/podcast-content/data/theme_register.json\n"
     ]
    }
   ],
   "source": [
    "theme_manager.verificate_file(\"theme_register.json\")"
   ]
  },
  {
   "cell_type": "code",
   "execution_count": 21,
   "metadata": {},
   "outputs": [],
   "source": [
    "theme_manager.verificate_create_key(\"theme_register.json\",\"theme_3\",\"Que hiciste el domingo\",\"Programe con cv2 y pandas\")"
   ]
  },
  {
   "cell_type": "code",
   "execution_count": null,
   "metadata": {},
   "outputs": [],
   "source": []
  }
 ],
 "metadata": {
  "kernelspec": {
   "display_name": "podcastv1-Fhxx-hd8-py3.11",
   "language": "python",
   "name": "python3"
  },
  "language_info": {
   "codemirror_mode": {
    "name": "ipython",
    "version": 3
   },
   "file_extension": ".py",
   "mimetype": "text/x-python",
   "name": "python",
   "nbconvert_exporter": "python",
   "pygments_lexer": "ipython3",
   "version": "3.11.0"
  }
 },
 "nbformat": 4,
 "nbformat_minor": 2
}
