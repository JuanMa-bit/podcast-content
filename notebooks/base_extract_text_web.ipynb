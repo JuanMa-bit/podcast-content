{
 "cells": [
  {
   "cell_type": "code",
   "execution_count": 2,
   "metadata": {},
   "outputs": [],
   "source": [
    "import trafilatura\n",
    "import json\n",
    "import os\n"
   ]
  },
  {
   "cell_type": "code",
   "execution_count": 35,
   "metadata": {},
   "outputs": [],
   "source": [
    "class TextExtractorManager:\n",
    "    def __init__(self):\n",
    "        self.path_file_base = \"/Users/jucampo/Desktop/Ideas/Podcast/podcast-content/data\"\n",
    "        self.datos = {}\n",
    "    def verificate_file(self,name_file):\n",
    "        # Verificar si el archivo existe\n",
    "        path_file = os.path.join(self.path_file_base,name_file)\n",
    "        if not os.path.exists(path_file):\n",
    "            # Si no existe, crear el archivo\n",
    "            with open(path_file, 'w') as file:\n",
    "                json.dump(self.datos, path_file, indent=4)\n",
    "            print(f\"Archivo creado en: {path_file}\")\n",
    "        else:\n",
    "            print(f\"El archivo ya existe en: {path_file}\")\n",
    "    def verificate_create_key(self, name_file, key, base_domain,section):\n",
    "        \"\"\"\n",
    "        Verifica si una clave existe en un archivo JSON y, si no existe, la crea con un valor predeterminado.\n",
    "\n",
    "        Args:\n",
    "            ruta_archivo (str): La ruta del archivo JSON.\n",
    "            clave (str): La clave que se va a verificar y, si es necesario, crear en el archivo JSON.\n",
    "            valor_predeterminado (Any): El valor predeterminado que se asignará a la clave si no existe en el archivo JSON. Por defecto es None.\n",
    "\n",
    "        Returns:\n",
    "            dict: El contenido del archivo JSON actualizado.\n",
    "        \"\"\"\n",
    "        path_file = os.path.join(self.path_file_base,name_file)\n",
    "        try:\n",
    "            with open(path_file, 'r') as file:\n",
    "                contenido_json = json.load(file)\n",
    "        except FileNotFoundError:\n",
    "            contenido_json = {}\n",
    "        \n",
    "        if key not in contenido_json:\n",
    "            contenido_json[key] = {base_domain:{section:{\"text_extract\":[],\"idxs_advertisement\":[]}}}\n",
    "        else:\n",
    "            if base_domain not in contenido_json[key]:\n",
    "                contenido_json[key][base_domain]={section:{\"text_extract\":[],\"idxs_advertisement\":[]}}\n",
    "            elif base_domain in contenido_json[key] and section not in contenido_json[key][base_domain].keys():\n",
    "                contenido_json[key][base_domain][section]={\"text_extract\":[],\"idxs_advertisement\":[]}\n",
    "             \n",
    "        \n",
    "        with open(path_file, 'w') as file:\n",
    "            json.dump(contenido_json, file, indent=4)\n",
    "    \n",
    "    def add_text_extract(self,name_file, key, base_domain,section,l_text,l_idxs_advertisement):\n",
    "        path_file = os.path.join(self.path_file_base,name_file)\n",
    "        try:\n",
    "            with open(path_file, 'r') as file:\n",
    "                contenido_json = json.load(file)\n",
    "        except FileNotFoundError:\n",
    "            contenido_json = {}\n",
    "\n",
    "        contenido_json[key][base_domain][section]={\"text_extract\":l_text,\"idxs_advertisement\":l_idxs_advertisement}\n",
    "        with open(path_file, 'w') as file:\n",
    "            json.dump(contenido_json, file, indent=4)\n",
    "    def get_url(self,name_file,theme,idx_domain,idx_section):\n",
    "        path_file = os.path.join(self.path_file_base,name_file)\n",
    "        try:\n",
    "            with open(path_file, 'r') as file:\n",
    "                contenido_json = json.load(file)\n",
    "        except FileNotFoundError:\n",
    "            contenido_json = {}\n",
    "\n",
    "        domain = list(contenido_json[theme].keys())[idx_domain]\n",
    "        section = list(contenido_json[theme][domain].keys())[idx_section]\n",
    "        url = domain + section\n",
    "        print(\"url domain \"+str(idx_domain)+\" section\"+str(idx_section)+\": \",url)\n",
    "        return url\n"
   ]
  },
  {
   "cell_type": "code",
   "execution_count": 42,
   "metadata": {},
   "outputs": [],
   "source": [
    "name_file_json = \"theme_text_extractor.json\"\n",
    "theme = \"No_tomar_las_cosas_personal\"\n",
    "l_sections = [\n",
    "    \"https://www.choosingtherapy.com/\",\"how-to-not-take-things-personally/\",\n",
    "    \"https://kcrelationshipinstitute.com/\",\"five-strategies-to-avoid-taking-things-personally-in-your-relationships/\",\n",
    "    \"https://www.psychologytoday.com/\",\"us/blog/how-be-yourself/202011/6-ways-not-take-things-personally\"\n",
    "]"
   ]
  },
  {
   "cell_type": "code",
   "execution_count": 36,
   "metadata": {},
   "outputs": [],
   "source": [
    "text_manager=TextExtractorManager()"
   ]
  },
  {
   "cell_type": "code",
   "execution_count": 5,
   "metadata": {},
   "outputs": [
    {
     "name": "stdout",
     "output_type": "stream",
     "text": [
      "El archivo ya existe en: /Users/jucampo/Desktop/Ideas/Podcast/podcast-content/data/theme_text_extractor.json\n"
     ]
    }
   ],
   "source": [
    "text_manager.verificate_file(name_file_json)"
   ]
  },
  {
   "cell_type": "code",
   "execution_count": 55,
   "metadata": {},
   "outputs": [],
   "source": [
    "text_manager.verificate_create_key(name_file_json, theme, \"https://www.choosingtherapy.com/\",\"how-to-not-take-things-personally/\")\n",
    "text_manager.verificate_create_key(name_file_json, theme,\"https://kcrelationshipinstitute.com/\",\"five-strategies-to-avoid-taking-things-personally-in-your-relationships/\")\n",
    "text_manager.verificate_create_key(name_file_json, theme,\"https://www.psychologytoday.com/\",\"us/blog/how-be-yourself/202011/6-ways-not-take-things-personally\")\n",
    "text_manager.verificate_create_key(name_file_json, theme,\"https://hbr.org/\",\"2023/10/how-to-stop-taking-work-so-personally\")\n",
    "text_manager.verificate_create_key(name_file_json, theme,\"https://tinybuddha.com/\",\"blog/avoid-feeling-bad-how-to-stop-taking-things-personally/\")"
   ]
  },
  {
   "cell_type": "code",
   "execution_count": 56,
   "metadata": {},
   "outputs": [
    {
     "name": "stdout",
     "output_type": "stream",
     "text": [
      "url domain 0 section0:  https://www.choosingtherapy.com/how-to-not-take-things-personally/\n",
      "url domain 1 section0:  https://kcrelationshipinstitute.com/five-strategies-to-avoid-taking-things-personally-in-your-relationships/\n",
      "url domain 2 section0:  https://www.psychologytoday.com/us/blog/how-be-yourself/202011/6-ways-not-take-things-personally\n",
      "url domain 3 section0:  https://hbr.org/2023/10/how-to-stop-taking-work-so-personally\n",
      "url domain 4 section0:  https://tinybuddha.com/blog/avoid-feeling-bad-how-to-stop-taking-things-personally/\n"
     ]
    }
   ],
   "source": [
    "url_0_0 = text_manager.get_url(name_file_json,theme,idx_domain=0,idx_section=0)\n",
    "url_1_0 = text_manager.get_url(name_file_json,theme,idx_domain=1,idx_section=0)\n",
    "url_2_0 = text_manager.get_url(name_file_json,theme,idx_domain=2,idx_section=0)\n",
    "url_3_0 = text_manager.get_url(name_file_json,theme,idx_domain=3,idx_section=0)\n",
    "url_4_0 = text_manager.get_url(name_file_json,theme,idx_domain=4,idx_section=0)"
   ]
  },
  {
   "cell_type": "code",
   "execution_count": 57,
   "metadata": {},
   "outputs": [],
   "source": [
    "downloaded = trafilatura.fetch_url(url_4_0)\n",
    "text_extract = trafilatura.extract(downloaded,include_comments=False,)\n",
    "l_text = text_extract.split(\"\\n\")\n"
   ]
  },
  {
   "cell_type": "code",
   "execution_count": 58,
   "metadata": {},
   "outputs": [
    {
     "data": {
      "text/plain": [
       "['“There is a huge amount of freedom that comes when you take nothing personally.” ~Don Miguel Ruiz',\n",
       " 'Oh man, if I had a dollar for every time I took something personally…',\n",
       " 'I’d be rich by now.',\n",
       " 'When I quit my corporate job in Paris and took a year off traveling people would often ask me, “So, what’s your plan now?” A normal question to ask, I know. But back then, I usually got offended by that question and other follow-up ones. It made me think that others were judging my decision and questioning my ability to change career paths.',\n",
       " 'Or when I was single and people would ask, “So, are you seeing anyone right now?” Again, I’d often assume that they thought less of me if I didn’t have an interesting single life or wasn’t dating someone special.',\n",
       " 'Or in the early days of dating my boyfriend, when he wouldn’t have time to talk or see me at times, I’d take it personally and assume the worst. Maybe I had done something to mess everything up. Maybe he didn’t think I was that interesting after all.',\n",
       " 'Taking things personally is emotionally draining. It often makes you assume the worst and puts you into the victim corner. Sometimes, of course, it’s worth reflecting on our own behavior, which can help us develop and grow as individuals. But taking things personally, when many times they’re not, just tears down our self-esteem and makes us question ourselves.',\n",
       " 'Here are a few ways to stop taking things personally:',\n",
       " '1. Question your negative beliefs.',\n",
       " 'When we take things personally, it’s often because we hold a negative belief that is fueling our perception of a situation. For example, if you say “hello” to an acquaintance on the street and get upset because they don’t reply back, you might believe that people who don’t acknowledge you are rude or that they have something against you.',\n",
       " 'Look at the limiting belief behind the situation and question it. Maybe they didn’t actually see you. Maybe they didn’t have time to perceive that it was you who passed by. Or maybe they were simply too occupied in their own mind to engage with anyone else.',\n",
       " 'Many times, our beliefs make us misinterpret situations negatively and turn them against ourselves. We form negative assumptions and inevitably feel hurt if we don’t take the time to question our thoughts and beliefs.',\n",
       " '2. Don’t assume you know everything.',\n",
       " 'When I left my job to travel for a year and get clear on what business to start, I was scared of what others, especially colleagues I respected, would think of me. I simply assumed that they would think I was irresponsible for leaving a good career for… well, I didn’t know yet.',\n",
       " 'There was one colleague in particular, who I really looked up to, that I already had assumed judged me for my decision. Whenever she mentioned something about her career, I turned that against myself as a way of confirming “I knew it, she thinks I’ve made a terrible mistake.”',\n",
       " 'Then one day, when we were talking about my journey and the choices I had made, she said, “You know Maria, I think you’re so brave. I wish I had the courage to also quit and pursue my own business.” This proved to me that we don’t know what others are thinking about us, even if we think we do. So don’t assume you know everything.',\n",
       " '3. Know that it’s not about you.',\n",
       " 'When someone seems harsh or insensitive it’s easy to assume it’s personal. But often, it’s really not. Someone who’s rude to you in traffic might have had a terrible morning. Someone who makes a condescending comment might struggle with their own self-esteem and self-confidence. Someone who’s cold and short in their communication might be really stressed.',\n",
       " 'It’s worth reflecting on what we can learn when it comes to things we take personally. In my experience, there’s always a lesson. Try to extract it and then leave the rest.',\n",
       " 'For example, when I started a podcast, a friend sent me a picture over Instagram with the message “Women doing podcasts just found a substitute for therapy.” It was supposed to be funny, but it wasn’t to me.',\n",
       " 'My learning in that situation was to care more about what I wanted to do instead of one other person’s opinion (or joke). (And I’m happy I’ve continued because, since then, we’ve received so much positive feedback on the podcast!)',\n",
       " '4. Create a counter-story.',\n",
       " 'Often, when we take something personally, it’s because it confirms a negative story we have running in the back of our mind. For example, if someone in your family makes a joke or comment about you being messy or having limited cooking skills—and you regularly tell yourself that you’re somehow inferior to others because of these things—you might get offended.',\n",
       " 'So, what should you do? Create an empowering counter story. Maybe you’re a bit messy, but so what? You might also be really creative. And maybe you’re not so great at cooking, but you have other skills—for example, you’re the one who always sorts out conflicts between people.',\n",
       " 'In short, tell a story that benefits you and remember that we all have flaws, quirks, imperfections, and weaknesses. Needless to say, if you don’t like your behavior, then of course, you have the power to change it. But sometimes you simply need to accept that you are who you are, and there’s nothing wrong with that.',\n",
       " '5. Accept that we’re all different (and not everyone needs to like you).',\n",
       " 'You might be taking something personally because this gives you a greater chance of getting someone’s approval. If it’s about you, then there’s something you can do about it. If it’s about them, then it’s truly out of your hands, and all you can do is accept that, for whatever reason, they don’t like you or won’t let you in.',\n",
       " 'No single person on this planet is liked by everyone. That’s just part of life, for all of us. Instead of trying to change yourself to be liked by someone, shift your focus and ask yourself why you need this person’s approval. Is it that you’re uncomfortable with disapproval in general, or do you want them to like you for other reasons, such as they are a friend of a friend?',\n",
       " 'When you identify the root cause of your discomfort with their disapproval, you’ll be able to tell yourself what you need to hear to let it go—for example, that their opinion doesn’t mean anything about you as a person.',\n",
       " '6. Create space between an “offense” and your reaction.',\n",
       " 'When we take something personally, it’s easy to lash out in anger, frustration, or pain, which only makes things worse. Before you step into action, try creating some space between the situation and your reaction. Breathe, step away, and allow yourself to calm down before acting out.',\n",
       " 'Maybe you interpreted the situation in a negative way. Maybe this person wasn’t judging or being condescending toward you. Maybe there’s something you don’t know about the situation. Try not to react to the situation, but to respond once you have calmed down. Perhaps with a little time and space you’ll recognize your initial conclusions were wrong.',\n",
       " '7. Ask for clarification.',\n",
       " 'If you know the person who said or did something that made you feel bad, ask for clarification. What did he or she really mean? What was his or her intention? Many times, we interpret situations negatively. But in my experience, after asking for clarification, we realize the other person didn’t intend to hurt us.',\n",
       " 'So instead of letting your thoughts spin off in a negative direction, ask the person to spell out what he or she really meant. You may be surprised by the number of times you learn that you completely misread a situation.',\n",
       " '8. Practice self-compassion.',\n",
       " 'This is what it all comes down to, isn’t it? Practicing self-compassion when we’re being hard on ourselves. Because even though someone else might say or do something to offend us, we’re the ones who decide how we let their behavior affect us. We can always choose not to take negative comments to heart or get down on ourselves just because someone else was rude or insensitive.',\n",
       " 'Practice saying, “I’m not letting that in” to draw a clear line when you’ve decided not to take something personally.',\n",
       " 'Whether you misinterpreted a situation or someone actually was rude to you, you decide whether to invite it in or not. So stand guard to the door of your mind. Keep a high standard and make sure to let in words, thoughts, and beliefs that empower and strengthen you.',\n",
       " 'About Maria Stenvinkel',\n",
       " 'Maria Stenvinkel is on a mission to help you move from fear to fearless—and to unleash your confidence, greater potential, and true self-love. Download her free and powerful worksheet: \"The Secret to Boosting Your Self-Confidence [Easy Worksheet].\"']"
      ]
     },
     "execution_count": 58,
     "metadata": {},
     "output_type": "execute_result"
    }
   ],
   "source": [
    "l_text"
   ]
  },
  {
   "cell_type": "code",
   "execution_count": 59,
   "metadata": {},
   "outputs": [
    {
     "name": "stdout",
     "output_type": "stream",
     "text": [
      "Index advertisement detected: []\n"
     ]
    }
   ],
   "source": [
    "idxs = []\n",
    "\n",
    "# Ciclo for\n",
    "for indice, text in enumerate(l_text):\n",
    "    respuesta = input(f\"This text:  '{text}' \\n is a advertisement? (y/n): \").strip().lower()\n",
    "    \n",
    "    # Verificar respuesta del usuario\n",
    "    if respuesta == \"y\":\n",
    "        idxs.append(indice)\n",
    "    elif respuesta == \"n\":\n",
    "        pass\n",
    "    else:\n",
    "        print(\"Respuesta no válida. Por favor, responda 'y' para sí o 'n' para no.\")\n",
    "    \n",
    "print(\"Index advertisement detected:\", idxs)\n"
   ]
  },
  {
   "cell_type": "code",
   "execution_count": 60,
   "metadata": {},
   "outputs": [],
   "source": [
    "text_manager.add_text_extract(name_file_json, theme,\"https://tinybuddha.com/\",\"blog/avoid-feeling-bad-how-to-stop-taking-things-personally/\",l_text,idxs)"
   ]
  },
  {
   "cell_type": "code",
   "execution_count": null,
   "metadata": {},
   "outputs": [],
   "source": []
  }
 ],
 "metadata": {
  "kernelspec": {
   "display_name": "podcastv1-Fhxx-hd8-py3.11",
   "language": "python",
   "name": "python3"
  },
  "language_info": {
   "codemirror_mode": {
    "name": "ipython",
    "version": 3
   },
   "file_extension": ".py",
   "mimetype": "text/x-python",
   "name": "python",
   "nbconvert_exporter": "python",
   "pygments_lexer": "ipython3",
   "version": "3.11.0"
  }
 },
 "nbformat": 4,
 "nbformat_minor": 2
}
