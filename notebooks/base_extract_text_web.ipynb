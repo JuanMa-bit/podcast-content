{
 "cells": [
  {
   "cell_type": "code",
   "execution_count": 50,
   "metadata": {},
   "outputs": [],
   "source": [
    "import trafilatura\n",
    "import json\n",
    "import os"
   ]
  },
  {
   "cell_type": "code",
   "execution_count": 66,
   "metadata": {},
   "outputs": [],
   "source": [
    "class TextExtractorManager:\n",
    "    def __init__(self):\n",
    "        self.path_file_base = \"/Users/jucampo/Desktop/Ideas/Podcast/podcast-content/data\"\n",
    "        self.datos = {}\n",
    "    def verificate_file(self,name_file):\n",
    "        # Verificar si el archivo existe\n",
    "        path_file = os.path.join(self.path_file_base,name_file)\n",
    "        if not os.path.exists(path_file):\n",
    "            # Si no existe, crear el archivo\n",
    "            with open(path_file, 'w') as file:\n",
    "                json.dump(self.datos, path_file, indent=4)\n",
    "            print(f\"Archivo creado en: {path_file}\")\n",
    "        else:\n",
    "            print(f\"El archivo ya existe en: {path_file}\")\n",
    "    def verificate_create_key(self, name_file, key, base_domain,section):\n",
    "        \"\"\"\n",
    "        Verifica si una clave existe en un archivo JSON y, si no existe, la crea con un valor predeterminado.\n",
    "\n",
    "        Args:\n",
    "            ruta_archivo (str): La ruta del archivo JSON.\n",
    "            clave (str): La clave que se va a verificar y, si es necesario, crear en el archivo JSON.\n",
    "            valor_predeterminado (Any): El valor predeterminado que se asignará a la clave si no existe en el archivo JSON. Por defecto es None.\n",
    "\n",
    "        Returns:\n",
    "            dict: El contenido del archivo JSON actualizado.\n",
    "        \"\"\"\n",
    "        path_file = os.path.join(self.path_file_base,name_file)\n",
    "        try:\n",
    "            with open(path_file, 'r') as file:\n",
    "                contenido_json = json.load(file)\n",
    "        except FileNotFoundError:\n",
    "            contenido_json = {}\n",
    "        \n",
    "        if key not in contenido_json:\n",
    "            contenido_json[key] = {base_domain:{section:{\"text_extract\":[],\"idxs_advertisement\":[]}}}\n",
    "        else:\n",
    "            if base_domain not in contenido_json[key]:\n",
    "                contenido_json[key][base_domain]={section:{\"text_extract\":[],\"idxs_advertisement\":[]}}\n",
    "            elif base_domain in contenido_json[key] and section not in contenido_json[key][base_domain].keys():\n",
    "                contenido_json[key][base_domain][section]={\"text_extract\":[],\"idxs_advertisement\":[]}\n",
    "             \n",
    "        \n",
    "        with open(path_file, 'w') as file:\n",
    "            json.dump(contenido_json, file, indent=4)\n",
    "    \n",
    "    def add_text_extract(self,name_file, key, base_domain,section,l_text,l_idxs_advertisement):\n",
    "        path_file = os.path.join(self.path_file_base,name_file)\n",
    "        try:\n",
    "            with open(path_file, 'r') as file:\n",
    "                contenido_json = json.load(file)\n",
    "        except FileNotFoundError:\n",
    "            contenido_json = {}\n",
    "\n",
    "        contenido_json[key][base_domain][section]={\"text_extract\":l_text,\"idxs_advertisement\":l_idxs_advertisement}\n",
    "        with open(path_file, 'w') as file:\n",
    "            json.dump(contenido_json, file, indent=4)\n"
   ]
  },
  {
   "cell_type": "code",
   "execution_count": 67,
   "metadata": {},
   "outputs": [],
   "source": [
    "text_manager=TextExtractorManager()"
   ]
  },
  {
   "cell_type": "code",
   "execution_count": 68,
   "metadata": {},
   "outputs": [
    {
     "name": "stdout",
     "output_type": "stream",
     "text": [
      "El archivo ya existe en: /Users/jucampo/Desktop/Ideas/Podcast/podcast-content/data/theme_text_extractor.json\n"
     ]
    }
   ],
   "source": [
    "text_manager.verificate_file(\"theme_text_extractor.json\")"
   ]
  },
  {
   "cell_type": "code",
   "execution_count": 69,
   "metadata": {},
   "outputs": [],
   "source": [
    "text_manager.verificate_create_key(\"theme_text_extractor.json\", \"No_tomar_las_cosas_personal\", \"https://www.choosingtherapy.com/\",\"how-to-not-take-things-personally/\")"
   ]
  },
  {
   "cell_type": "code",
   "execution_count": 70,
   "metadata": {},
   "outputs": [],
   "source": [
    "text_manager.verificate_create_key(\"theme_text_extractor.json\",\"politica\",\"https://www.lasillavacia.com/\",\"category/quien-es-quien/\")"
   ]
  },
  {
   "cell_type": "code",
   "execution_count": 35,
   "metadata": {},
   "outputs": [],
   "source": [
    "ruta_archivo_json = \"/Users/jucampo/Desktop/Ideas/Podcast/podcast-content/data/theme_text_extractor.json\"\n",
    "\n",
    "# Leer el contenido del archivo JSON\n",
    "with open(ruta_archivo_json, 'r') as archivo_json:\n",
    "    contenido_json = json.load(archivo_json)"
   ]
  },
  {
   "cell_type": "code",
   "execution_count": 43,
   "metadata": {},
   "outputs": [
    {
     "data": {
      "text/plain": [
       "{'how-to-not-take-things-personally/': {}}"
      ]
     },
     "execution_count": 43,
     "metadata": {},
     "output_type": "execute_result"
    }
   ],
   "source": [
    "contenido_json[\"No_tomar_las_cosas_personal\"][\"https://www.choosingtherapy.com/\"]"
   ]
  },
  {
   "cell_type": "code",
   "execution_count": 46,
   "metadata": {},
   "outputs": [
    {
     "data": {
      "text/plain": [
       "'how-to-not-take-things-personally/'"
      ]
     },
     "execution_count": 46,
     "metadata": {},
     "output_type": "execute_result"
    }
   ],
   "source": [
    "dommain_0 = list(contenido_json[\"No_tomar_las_cosas_personal\"].keys())[0]\n",
    "section_0 = list(contenido_json[\"No_tomar_las_cosas_personal\"][dommain_0].keys())[0]\n"
   ]
  },
  {
   "cell_type": "code",
   "execution_count": 4,
   "metadata": {},
   "outputs": [
    {
     "data": {
      "text/plain": [
       "'https://www.choosingtherapy.com/how-to-not-take-things-personally/'"
      ]
     },
     "execution_count": 4,
     "metadata": {},
     "output_type": "execute_result"
    }
   ],
   "source": [
    "dommain_0+section_0"
   ]
  },
  {
   "cell_type": "code",
   "execution_count": 5,
   "metadata": {},
   "outputs": [],
   "source": [
    "downloaded = trafilatura.fetch_url(dommain_0+section_0)\n"
   ]
  },
  {
   "cell_type": "code",
   "execution_count": 6,
   "metadata": {},
   "outputs": [],
   "source": [
    "text_extract = trafilatura.extract(downloaded,include_comments=False,)\n",
    "l_text = text_extract.split(\"\\n\")"
   ]
  },
  {
   "cell_type": "code",
   "execution_count": 10,
   "metadata": {},
   "outputs": [
    {
     "data": {
      "text/plain": [
       "'What Causes People to Take Things Personally?'"
      ]
     },
     "execution_count": 10,
     "metadata": {},
     "output_type": "execute_result"
    }
   ],
   "source": [
    "l_text[3]"
   ]
  },
  {
   "cell_type": "code",
   "execution_count": 31,
   "metadata": {},
   "outputs": [
    {
     "name": "stdout",
     "output_type": "stream",
     "text": [
      "Index advertisement detected: [1, 2, 45, 46, 47, 48, 49, 83, 84, 110, 111, 112, 113, 114, 115, 116, 117, 118, 119, 120, 121, 122, 123, 124, 125, 126, 127, 128, 129, 130, 131]\n"
     ]
    }
   ],
   "source": [
    "idxs = []\n",
    "\n",
    "# Ciclo for\n",
    "for indice, text in enumerate(l_text):\n",
    "    respuesta = input(f\"This text:  '{text}' \\n is a advertisement? (y/n): \").strip().lower()\n",
    "    \n",
    "    # Verificar respuesta del usuario\n",
    "    if respuesta == \"y\":\n",
    "        idxs.append(indice)\n",
    "    elif respuesta == \"n\":\n",
    "        pass\n",
    "    else:\n",
    "        print(\"Respuesta no válida. Por favor, responda 'y' para sí o 'n' para no.\")\n",
    "    \n",
    "print(\"Index advertisement detected:\", idxs)\n"
   ]
  },
  {
   "cell_type": "code",
   "execution_count": 72,
   "metadata": {},
   "outputs": [],
   "source": [
    "text_manager.add_text_extract(\"theme_text_extractor.json\", \"No_tomar_las_cosas_personal\", \"https://www.choosingtherapy.com/\",\"how-to-not-take-things-personally/\",l_text,idxs)"
   ]
  },
  {
   "cell_type": "code",
   "execution_count": 26,
   "metadata": {},
   "outputs": [
    {
     "name": "stdout",
     "output_type": "stream",
     "text": [
      "Everyone is guilty of taking things too personally occasionally, especially when others’ words or actions are misinterpreted. While these reactions are natural, they can lead to strain in relationships and distort our perception of situations, and engaging in this behavior too often can cause strain on relationships with friends and family. The keys to breaking free from this cycle include understanding one’s own self-worth, separating facts from interpretations, and fostering open communication.\n",
      "Relationships aren’t perfect. Navigate the ups and downs in therapy.\n",
      "BetterHelp has over 20,000 licensed therapists who provide convenient and affordable online therapy. BetterHelp starts at $65 per week. Take a Free Online Assessment and get matched with the right therapist for you.\n",
      "What Causes People to Take Things Personally?\n",
      "Low self-esteem or low self-confidence are common conditions that make someone more likely to take others’ words or actions personally. When someone does not think highly of themselves, they are more likely to think that others also feel negatively about them.\n",
      "There are many different reasons why some people might take things personally. For some, being overly concerned with reputation can make them become invested in how others see them, sometimes leading to frequent misinterpretations of others’ actions as personal.\n",
      "Reasons why you may struggle with taking things too personally include:\n",
      "Perfectionism: Perfectionism is when someone feels that they have to do or say everything perfectly. A perfectionist may take things too personally because they constantly worry that others are judging or criticizing them.\n",
      "-\n",
      "Low self-esteem: Low self-esteem can make someone more likely to take things personally because if we think poorly about ourselves, we can easily project these beliefs and feelings onto others, assuming that they are judging us.\n",
      "-\n",
      "Being highly sensitive: Being a highly sensitive person, or HSP, can make you more susceptible to others. This can come across as having an increased reaction to what others say and do, especially if you feel there was a “tone” or something else you picked up that others didn’t. HSPs are more sensitive to the little things, such as a change in voice or simple body language that others might not even notice.\n",
      "-\n",
      "Mean people surround you: Being in a toxic environment can make you more likely to take things personally, even around people who are not mean. If you are so used to others being unkind or sending mixed messages, you might interpret this same behavior in others.\n",
      "-\n",
      "Childhood neglect: Those who have survived childhood neglect are more likely to be sensitive to things such as perceived rejection, which likely comes from the decreased self-esteem in people with childhood emotional neglect.1 Childhood neglect significantly affects things such as anxiety, depression, and other mental health factors,2 which can all lead to taking things too personally.\n",
      "-\n",
      "You are neurodivergent: Those with neurodiverse traits, such as autism, Asperger’s, ADHD, and others, often struggle with understanding the intentions and meaning behind other people’s speech and actions. It is possible that those with neurodivergent traits can take things too personally if they do not understand the meaning or context.\n",
      "-\n",
      "Being overtired: A lack of sleep can significantly affect one’s ability to communicate effectively, including making it more likely for them to misinterpret others’ meanings behind their words or actions. “Sleep loss has been shown to cause impairments in a number of aspects central for successful communication…”3\n",
      "-\n",
      "Being stressed: Being stressed affects a person’s emotional reactivity, making it more likely that they will take things personally when they might not otherwise have had this sensitive reaction. Stress removes the ability to think objectively about things. “When someone is stressed, they may become frustrated or angry more easily.”4\n",
      "-\n",
      "Are Women More Prone to Taking Things Personally?\n",
      "Due to how women are socialized in our society, women are more prone to taking things personally. According to research, girls and women are usually given less praise and recognition from a young age than men for the same- or similar- achievements and successes.5 Due to this, it can be common for women to feel “less than” others in the group, especially when in a group filled with men.\n",
      "Likewise, women are more sensitive to others’ emotional expressions.6 Women might be more likely to pick up on someone’s annoyed or judgmental tone that their male peers might not pick up on. Of course, all genders have varying sensitivities to others’ emotions, but those socialized as female may be more likely to take things personally.\n",
      "How to Know When You’re Taking Things Too Personally\n",
      "Obsessing about others’ opinions of you and getting easily angered are signs that you are taking things too personally. It can be difficult to know when you are taking things too personally, especially if you are used to being oversensitive to others. But noticing when you are being too sensitive, and thus taking things too personally, is important to maintaining healthy boundaries and relationships.\n",
      "Here are a few signs that you are taking things too personally:\n",
      "You keep replaying someone’s critique of your work over and over again in your head\n",
      "-\n",
      "You are still thinking about an interaction with a person many hours after the event passed\n",
      "-\n",
      "You can feel your body getting warm and tense as you think about what they said or did\n",
      "-\n",
      "You are obsessed with others’ opinions and worry that they might be negative\n",
      "-\n",
      "You worry that there is an ulterior motive behind others’ words\n",
      "-\n",
      "You get angry or frustrated easily by others and find it difficult to let it go\n",
      "-\n",
      "You find yourself venting about the situation to other people for longer than necessary\n",
      "-\n",
      "You have struggled with feeling misunderstood for the more significant part of your life\n",
      "-\n",
      "Top Rated Online Therapy Services\n",
      "BetterHelp – Best Overall\n",
      "“BetterHelp is an online therapy platform that quickly connects you with a licensed counselor or therapist and earned 4 out of 5 stars.” Visit BetterHelp\n",
      "Online-Therapy.com – Great Alternative\n",
      "In addition to therapy, all Online-Therapy subscriptions include a self-guided CBT course. Visit Online-Therapy.com\n",
      "Benefits of Taking Things Personally\n",
      "Not unexpectedly, there are some possible benefits of recognizing that you are taking things personally. Being upset about something others have said or done tells you where your insecurities and sensitivities are.\n",
      "When done respectfully, talking to friends and family about what bothered you can help them understand you better. Opening up to them can help them learn more about you and help you both deepen your relationship.\n",
      "How to Stop Taking Things Personally\n",
      "You can slowly shift your mindset by challenging your feelings and improving self-esteem to start learning how to stop taking things too personally. It is important to be mindful that change happens gradually, so you should not expect to change completely within a few days or weeks.\n",
      "Instead, by following the guidelines below, you can expect to see changes over a few weeks or months.\n",
      "Here are seven ways to stop taking things too personally:\n",
      "1. Challenge Your Assumptions When You Feel Hurt\n",
      "When you notice yourself becoming bothered by others’ actions or words, take a moment and challenge the thoughts in your head. By challenging the assumptions, you may recognize that you are assuming things to be true that might not be.\n",
      "Here are a few questions that can help you challenge your assumptions:\n",
      "“Was this done to me on purpose?”\n",
      "-\n",
      "“Is there a chance I am being oversensitive?”\n",
      "-\n",
      "“What is another explanation for their statement?”\n",
      "-\n",
      "Have I overreacted in the past about something similar?”\n",
      "-\n",
      "“Usually, this negative feeling will eventually pass- is it likely that this will pass as well?”\n",
      "-\n",
      "2. How Therapy Helps You Explore Insecurities\n",
      "When people react sensitively to things, there is almost always a reason behind it. This could be an inner wound, trauma history, or something you are self-conscious about. Exploring these insecurities can help you learn not to take things so personally.\n",
      "Here are a few effective therapy options to explore the insecurities that arise:\n",
      "Psychodynamic therapy: Psychodynamic therapy works to explore someone’s insecurities by looking at the role of childhood traumas and other experiences. It is a great tool for examining how our past experiences might contribute to interpreting situations today.\n",
      "-\n",
      "Group therapy: If you want to learn more about improving social skills and self-awareness, group therapy can be very helpful. Many benefit from having a trusting and judgment-free space to explore emotions and sensitivities.\n",
      "-\n",
      "Cognitive behavior therapy (CBT): Cognitive Behavioral Therapy is a therapeutic tool that helps people develop awareness into how their thoughts could contribute to any sensitivities they are experiencing.\n",
      "-\n",
      "Dialectical behavioral therapy (DBT): For those who have experienced childhood trauma affecting their current relationships, DBT is a great tool for learning how to manage emotional reactions to situations and people.\n",
      "-\n",
      "Acceptance and commitment therapy (ACT): ACT is a modality that teaches people to expect and accept that there will be difficult feelings in some social situations. This method can help people learn how to navigate feelings of sensitivity, recognize when they are taking things too personally, and understand that the feeling will pass.\n",
      "-\n",
      "Relationships aren’t perfect. Navigate the ups and downs in therapy.\n",
      "BetterHelp has over 20,000 licensed therapists who provide convenient and affordable online therapy. BetterHelp starts at $65 per week. Take a Free Online Assessment and get matched with the right therapist for you.\n",
      "3. Work on Improving Self-Esteem\n",
      "When your self-esteem is low, you are more likely to take things personally due to an overall assumption that others do not think highly of you. Working on your self-esteem can help decrease these negative reactions. Increasing self-esteem can help improve mental health and protect against negative perceptions or influences of others.7\n",
      "4. Get Curious About the Insecurities That Arise\n",
      "When you explore deeper into the feelings that arise, you may learn some things about yourself and your insecurities. This exploration can help you develop a greater self-awareness into yourself.\n",
      "To begin, ask yourself the following questions:\n",
      "“What does this person’s statement mean about me as a person?”\n",
      "-\n",
      "“Is their opinion of me MY opinion of me?”\n",
      "-\n",
      "“Who does their behavior remind me of? Does it seem familiar?”\n",
      "-\n",
      "“Do I tend to get sensitive about this same type of situation? Maybe there is a pattern that the universe is trying to show me.”\n",
      "-\n",
      "5. Look at the Positives\n",
      "Being highly sensitive to others can be a positive trait. It shows you where your sensitivities are, and you can use this information to develop deeper relationships with others. Some believe being sensitive to external stimuli is a survival trait because it increases one’s responsiveness to environmental and social situations.8\n",
      "6. What Is the Worst That It Could Mean?\n",
      "If someone was trying to be offensive, this is their issue, not yours, which does not mean you are bad. Let’s say for a moment that the person did mean their statement to be offensive. What is the worst that could happen? We often convince ourselves that if someone doesn’t like us, it means that we are bad or unlikeable- but this isn’t true.\n",
      "7. Allow the Feeling to Come and Go\n",
      "Let the negative feelings come, and accept that they are a part of this reaction in this particular moment. Acknowledge the discomfort and any other negative or uncomfortable feelings or sensations. Remind yourself that it will eventually pass and that you are learning tools to minimize these reactions.\n",
      "When to Seek Professional Support\n",
      "If you cannot work through the stressors experienced from being oversensitive to others, you could benefit from working through these feelings with a therapist. Thankfully, many online therapy options and even an online therapist directory exist to help you find an appropriate professional to support you through these challenges.\n",
      "If you are someone who occasionally takes things too personally, you can often manage by taking time to explore the emotions and thoughts that come up and working to develop greater self-awareness. However, sometimes, someone’s difficulties with taking things too personally interfere with their ability to develop or maintain social relationships – this is when you should consider finding a therapist.\n",
      "In My Experience\n",
      "I have suffered from social anxiety my whole adult life, and I also have elements of neurodivergence, such as sensory processing struggles and hypersensitivity as an HSP. Therefore, unintentionally taking things personally is a big part of my social experience.\n",
      "In the past, I would become easily angered, and it affected my social relationships. Today, I can recognize my symptoms more easily and use this self-awareness to manage better when needed. This does not eliminate my tendency to take things personally, but it gives me the tools needed to climb out of the emotional stress more easily.\n",
      "Additional Resources\n",
      "To help our readers take the next step in their mental health journey, Choosing Therapy has partnered with leaders in mental health and wellness. Choosing Therapy is compensated for marketing by the companies included below.\n",
      "Online Therapy\n",
      "BetterHelp Get support and guidance from a licensed therapist. BetterHelp has over 20,000 therapists, who provide convenient and affordable online therapy. Complete a brief questionnaire and get matched with the right therapist for you. Get Started\n",
      "Psychiatry, with you in mind\n",
      "Talkiatry Our Psychiatrists Can Diagnose Your Condition, Prescribe Medication, And Monitor Your Progress. Most psychiatry visits cost patients $30 or less* Free Assessment\n",
      "Drinking Moderation\n",
      "Sunnyside Want to drink less? Sunnyside helps you ease into mindful drinking at your own pace. Think lifestyle change, not a fad diet. Develop new daily routines, so you maintain your new habits for life. Take a 3 Minute Quiz\n",
      "Relationship Help\n",
      "OurRelationship (Free Couples Course) OurRelationship has been proven to help couples improve communication, intimacy, and trust. 94% would recommend it to a friend. Get Started\n",
      "Mental Health Support Group App\n",
      "Circles Anytime, anonymous, and free. Never feel alone during life’s greatest challenges. Drop-in to live conversations and share thoughts, ask questions, or learn from others on the same journey. Join Circles Now\n",
      "Free Prescription Discount Card\n",
      "Optum Perks Save up to 80% on most prescriptions. Optum Perks provides discounts at over 64,000 pharmacies nationwide. No memberships or costs to you, ever. It’s really that easy. Get your card and start saving. Get the discount card!\n",
      "*Includes copayment, deductible, coinsurance, and $0 Visits. Excludes no shows.\n",
      "Online Anxiety Test\n",
      "A few questions from Talkiatry can help you understand your symptoms and give you a recommendation for what to do next.\n",
      "How Does ERP Help With Intrusive Thoughts?\n",
      "Obsessive compulsive disorder (OCD) is a psychiatric condition marked by the presence of obsessive thoughts, images, doubts, or urges, followed by compulsive behaviors or acts aimed at easing the distress caused by the obsession. While the content of the obsessions can take many forms, they are always repetitive, persistent, involuntary, and intrusive, and they often result in a great deal of anxiety for the person experiencing them.\n",
      "Find a therapist for relationship issues\n",
      "Get the help you need from a therapist near you\n",
      "City or zip Search\n"
     ]
    }
   ],
   "source": [
    "resultado = trafilatura.bare_extraction(downloaded)\n",
    "print(resultado['text'])"
   ]
  },
  {
   "cell_type": "code",
   "execution_count": 27,
   "metadata": {},
   "outputs": [
    {
     "ename": "AttributeError",
     "evalue": "module 'trafilatura' has no attribute 'discover_urls'",
     "output_type": "error",
     "traceback": [
      "\u001b[0;31m---------------------------------------------------------------------------\u001b[0m",
      "\u001b[0;31mAttributeError\u001b[0m                            Traceback (most recent call last)",
      "Cell \u001b[0;32mIn[27], line 1\u001b[0m\n\u001b[0;32m----> 1\u001b[0m enlaces_internos \u001b[38;5;241m=\u001b[39m \u001b[43mtrafilatura\u001b[49m\u001b[38;5;241;43m.\u001b[39;49m\u001b[43mdiscover_urls\u001b[49m(dommain_0\u001b[38;5;241m+\u001b[39msection_0)\n\u001b[1;32m      3\u001b[0m \u001b[38;5;66;03m# Descubrimiento de Conexiones\u001b[39;00m\n\u001b[1;32m      4\u001b[0m urls_rss \u001b[38;5;241m=\u001b[39m trafilatura\u001b[38;5;241m.\u001b[39mdiscover_feeds(dommain_0\u001b[38;5;241m+\u001b[39msection_0)\n",
      "\u001b[0;31mAttributeError\u001b[0m: module 'trafilatura' has no attribute 'discover_urls'"
     ]
    }
   ],
   "source": [
    "enlaces_internos = trafilatura.discover_urls(dommain_0+section_0)\n",
    "\n",
    "# Descubrimiento de Conexiones\n",
    "urls_rss = trafilatura.discover_feeds(dommain_0+section_0)"
   ]
  }
 ],
 "metadata": {
  "kernelspec": {
   "display_name": "podcastv1-Fhxx-hd8-py3.11",
   "language": "python",
   "name": "python3"
  },
  "language_info": {
   "codemirror_mode": {
    "name": "ipython",
    "version": 3
   },
   "file_extension": ".py",
   "mimetype": "text/x-python",
   "name": "python",
   "nbconvert_exporter": "python",
   "pygments_lexer": "ipython3",
   "version": "3.11.0"
  }
 },
 "nbformat": 4,
 "nbformat_minor": 2
}
